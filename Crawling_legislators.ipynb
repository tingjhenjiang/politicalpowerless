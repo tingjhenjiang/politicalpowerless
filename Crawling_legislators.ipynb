{
 "cells": [
  {
   "cell_type": "code",
   "execution_count": 1,
   "metadata": {
    "scrolled": true
   },
   "outputs": [],
   "source": [
    "import pandas as pd\n",
    "import numpy as np\n",
    "import re\n",
    "import sys\n",
    "import json\n",
    "import requests\n",
    "from lxml import etree\n",
    "from IPython.display import display, HTML\n",
    "import urllib\n",
    "#from bs4 import BeautifulSoup as Soup\n",
    "\n",
    "df_prefix = \"/mnt/d/OneDrive/OnedriveDocuments/NTU/Work/thesis/dataset(2004-2016)/\"\n",
    "df = pd.read_excel(df_prefix+\"legislator_additional_attributes.xlsx\")\n",
    "\n",
    "legislators_ethicity_reference = {}\n",
    "legislators_ethicity_jsonfile = df_prefix+'legislators_ethicity.txt'\n",
    "legislators_ethicity_reference_jsonfile = df_prefix+'legislators_ethicity_reference.txt'\n",
    "jquery_file = df_prefix+'jquery-3.3.1.min.js'\n",
    "bulletin_urls = [\"0Zero\",\n",
    "    \"1One\",\n",
    "    \"http://ebulletin.cec.gov.tw/%E9%81%B8%E8%88%89/%E7%AB%8B%E6%B3%95%E5%A7%94%E5%93%A1/081%E5%B9%B4%E7%AC%AC2%E5%B1%86/\",\n",
    "    \"http://ebulletin.cec.gov.tw/%E9%81%B8%E8%88%89/%E7%AB%8B%E6%B3%95%E5%A7%94%E5%93%A1/084%E5%B9%B4%E7%AC%AC3%E5%B1%86/index2.php\",\n",
    "    \"http://ebulletin.cec.gov.tw/%E9%81%B8%E8%88%89/%E7%AB%8B%E6%B3%95%E5%A7%94%E5%93%A1/087%E5%B9%B4%E7%AC%AC4%E5%B1%86/index2.php\",\n",
    "    \"http://ebulletin.cec.gov.tw/%E9%81%B8%E8%88%89/%E7%AB%8B%E6%B3%95%E5%A7%94%E5%93%A1/090%E5%B9%B4%E7%AC%AC5%E5%B1%86/index2.php\",\n",
    "    \"http://ebulletin.cec.gov.tw/%E9%81%B8%E8%88%89/%E7%AB%8B%E6%B3%95%E5%A7%94%E5%93%A1/093%E5%B9%B4%E7%AC%AC6%E5%B1%86/index2.php\",\n",
    "    \"http://ebulletin.cec.gov.tw/%E9%81%B8%E8%88%89/%E7%AB%8B%E6%B3%95%E5%A7%94%E5%93%A1/097%E5%B9%B4%E7%AC%AC7%E5%B1%86/index2.php\",\n",
    "    \"http://ebulletin.cec.gov.tw/%E9%81%B8%E8%88%89/%E7%AB%8B%E6%B3%95%E5%A7%94%E5%93%A1/101%E5%B9%B4%E7%AC%AC8%E5%B1%86/index2.php\",\n",
    "    \"http://ebulletin.cec.gov.tw/%E9%81%B8%E8%88%89/%E7%AB%8B%E6%B3%95%E5%A7%94%E5%93%A1/105%E5%B9%B4%E7%AC%AC9%E5%B1%86/\"]\n",
    "urlencodedquote = urllib.parse.quote_plus(\"\\\"\")\n",
    "def addlegislatoreth(name,key,dic):\n",
    "    choices = {\n",
    "        'h': 'hakka',\n",
    "        'w': 'foreignstates',\n",
    "        'f': 'fulo',\n",
    "        'u': 'unknown',\n",
    "        'o': 'other',\n",
    "        'n': 'newresident',\n",
    "        'a': 'aboriginal'\n",
    "    }\n",
    "    result = choices.get(key.lower(), 'unknown')\n",
    "    dic[result] = \"|\".join((dic[result], name))\n",
    "    return(dic)\n",
    "def generate_hyperlink_for_url(url, text_for_link=\"\"):\n",
    "    if (text_for_link==\"\"):\n",
    "        text_for_link = url\n",
    "    linktext = '<a href=\"'+url+'\">'+text_for_link+'</a>'\n",
    "    return(linktext)\n",
    "\n",
    "path_to_candidate_api = 'http://db.cec.gov.tw/histCand.jsp'\n",
    "path_to_legislatorrelatives_api = 'https://opentaipower.g0v.tw/relatives'\n",
    "response_legislatorrelatives_data = requests.get(path_to_legislatorrelatives_api, data={})\n",
    "legislatorrelatives_rootselector = etree.HTML(response_legislatorrelatives_data.text)\n",
    "relative_for_a_legislator_inf_search_xpathkey = {\"relationship\":\".//td[2]\",\"name\":\".//td[1]\",\"groupname\":\".//td[3]\",\"grouppos\":\".//div[4]\"}\n",
    "\n",
    "request_candidate_header = {\n",
    "    \"accept\":\"text/html,application/xhtml+xml,application/xml;q=0.9,image/webp,image/apng,*/*;q=0.8,application/signed-exchange;v=b3\",\n",
    "    \"accept-language\":\"zh-TW,zh;q=0.9,en-US;q=0.8,en;q=0.7\",\n",
    "    \"cache-control\":\"max-age=0\",\n",
    "    \"content-type\":\"application/x-www-form-urlencoded\",\n",
    "    \"upgrade-insecure-requests\":\"1\",\n",
    "    \"referrer\":\"http://db.cec.gov.tw/histCand.jsp\",\n",
    "    \"referrerPolicy\":\"no-referrer-when-downgrade\"\n",
    "}\n",
    "election_inf_search_xpathkey = {\"electiondate\":\".//div[1]\",\"party\":\".//div[4]\",\"wonelection\":\".//div[5]\",\"area\":\".//div[6]\",\"electionname\":\".//div[7]/a\"}\n",
    "\n",
    "usingselenium = False\n",
    "#sys.exit()\n",
    "\n",
    "if (usingselenium):\n",
    "    # Create a desired capabilities object as a starting point.\n",
    "    import webbrowser as webb\n",
    "    from selenium import webdriver\n",
    "    from selenium.webdriver.common.desired_capabilities import DesiredCapabilities\n",
    "    from selenium.webdriver.chrome.options import Options\n",
    "    from selenium.webdriver.common.keys import Keys\n",
    "    chrome_options = Options()\n",
    "    chrome_options.add_argument(\"--incognito\")\n",
    "    chrome_options.add_argument('--window-size=1360,720')\n",
    "    capabilities = {**DesiredCapabilities.CHROME.copy(), **chrome_options.to_capabilities()}\n",
    "    print(capabilities)"
   ]
  },
  {
   "cell_type": "code",
   "execution_count": null,
   "metadata": {},
   "outputs": [],
   "source": [
    "if (usingselenium):\n",
    "    # Instantiate an instance of Remote WebDriver with the desired capabilities.\n",
    "    driver = webdriver.Remote(desired_capabilities=capabilities,\n",
    "                              command_executor=\"http://localhost:4445/wd/hub\")\n",
    "    driver.get('http://books.google.com.tw')\n",
    "    c = driver.find_element_by_tag_name(\"body\")\n",
    "    c.send_keys(Keys.LEFT_CONTROL+Keys.ADD)\n",
    "    c.send_keys(Keys.LEFT_CONTROL+Keys.ADD)\n",
    "    c.send_keys(Keys.LEFT_CONTROL+Keys.ADD)\n",
    "    driver.execute_script(\"$('body').css('transform', 'scale(1.2)');\")\n",
    "    driver.execute_script('document.body.style.fontSize = ((window.innerHeight/100)*30)+\"%\"')\n",
    "    with open(jquery_file, 'r') as jquery_js: \n",
    "        jquery = jquery_js.read()\n",
    "        driver.execute_script(jquery)\n",
    "        driver.execute_script('$(\"body\").css(\"font-size\", \"150%\")')"
   ]
  },
  {
   "cell_type": "code",
   "execution_count": 6,
   "metadata": {
    "scrolled": true
   },
   "outputs": [
    {
     "name": "stdout",
     "output_type": "stream",
     "text": [
      "瓦歷斯．貝林( 463 to go )\n"
     ]
    },
    {
     "data": {
      "text/html": [
       "<a href=\"http://zh.wikipedia.org/wiki/瓦歷斯．貝林\">http://zh.wikipedia.org/wiki/瓦歷斯．貝林</a>"
      ],
      "text/plain": [
       "<IPython.core.display.HTML object>"
      ]
     },
     "metadata": {},
     "output_type": "display_data"
    },
    {
     "data": {
      "text/html": [
       "<a href=\"https://www.google.com.tw/search?&num=100&q=site:ly.gov.tw+立法委員+%22瓦歷斯．貝林%22\">https://www.google.com.tw/search?&num=100&q=site:ly.gov.tw+立法委員+%22瓦歷斯．貝林%22</a>"
      ],
      "text/plain": [
       "<IPython.core.display.HTML object>"
      ]
     },
     "metadata": {},
     "output_type": "display_data"
    },
    {
     "data": {
      "text/html": [
       "<a href=\"https://www.google.com.tw/search?hl=zh-TW&tbo=p&tbm=bks&num=100&q=%22外省%22+瓦歷斯．貝林\">https://www.google.com.tw/search?hl=zh-TW&tbo=p&tbm=bks&num=100&q=%22外省%22+瓦歷斯．貝林</a>"
      ],
      "text/plain": [
       "<IPython.core.display.HTML object>"
      ]
     },
     "metadata": {},
     "output_type": "display_data"
    },
    {
     "data": {
      "text/html": [
       "<a href=\"https://www.google.com.tw/search?hl=zh-TW&tbo=p&tbm=bks&num=100&q=%22客家%22+瓦歷斯．貝林\">https://www.google.com.tw/search?hl=zh-TW&tbo=p&tbm=bks&num=100&q=%22客家%22+瓦歷斯．貝林</a>"
      ],
      "text/plain": [
       "<IPython.core.display.HTML object>"
      ]
     },
     "metadata": {},
     "output_type": "display_data"
    },
    {
     "data": {
      "text/html": [
       "<a href=\"https://www.google.com.tw/search?hl=zh-TW&tbo=p&tbm=bks&num=100&q=%22閩南%22+瓦歷斯．貝林\">https://www.google.com.tw/search?hl=zh-TW&tbo=p&tbm=bks&num=100&q=%22閩南%22+瓦歷斯．貝林</a>"
      ],
      "text/plain": [
       "<IPython.core.display.HTML object>"
      ]
     },
     "metadata": {},
     "output_type": "display_data"
    },
    {
     "data": {
      "text/html": [
       "<a href=\"https://www.google.com.tw/search?num=100&dcr=0&q=父親+母親+立法委員+爸媽+%22瓦歷斯．貝林%22\">https://www.google.com.tw/search?num=100&dcr=0&q=父親+母親+立法委員+爸媽+%22瓦歷斯．貝林%22</a>"
      ],
      "text/plain": [
       "<IPython.core.display.HTML object>"
      ]
     },
     "metadata": {},
     "output_type": "display_data"
    },
    {
     "data": {
      "text/html": [
       "<a href=\"https://www.google.com.tw/search?num=100&q=立法委員+%22瓦歷斯．貝林%22+母親\">https://www.google.com.tw/search?num=100&q=立法委員+%22瓦歷斯．貝林%22+母親</a>"
      ],
      "text/plain": [
       "<IPython.core.display.HTML object>"
      ]
     },
     "metadata": {},
     "output_type": "display_data"
    },
    {
     "data": {
      "text/html": [
       "<a href=\"https://www.google.com.tw/search?num=100&q=立法委員+%22瓦歷斯．貝林%22+父親\">https://www.google.com.tw/search?num=100&q=立法委員+%22瓦歷斯．貝林%22+父親</a>"
      ],
      "text/plain": [
       "<IPython.core.display.HTML object>"
      ]
     },
     "metadata": {},
     "output_type": "display_data"
    },
    {
     "data": {
      "text/html": [
       "<a href=\"https://www.youtube.com/results?search_type=search_videos&search_sort=relevance&search_category=0&page=&search_query=瓦歷斯．貝林\">https://www.youtube.com/results?search_type=search_videos&search_sort=relevance&search_category=0&page=&search_query=瓦歷斯．貝林</a>"
      ],
      "text/plain": [
       "<IPython.core.display.HTML object>"
      ]
     },
     "metadata": {},
     "output_type": "display_data"
    },
    {
     "data": {
      "text/html": [
       "<a href=\"https://www.google.com/search?ie=UTF-8&q=site%3Avote.nccu.edu.tw+%22瓦歷斯．貝林%22\">https://www.google.com/search?ie=UTF-8&q=site%3Avote.nccu.edu.tw+%22瓦歷斯．貝林%22</a>"
      ],
      "text/plain": [
       "<IPython.core.display.HTML object>"
      ]
     },
     "metadata": {},
     "output_type": "display_data"
    },
    {
     "data": {
      "text/html": [
       "<a href=\"http://ebulletin.cec.gov.tw/%E9%81%B8%E8%88%89/%E7%AB%8B%E6%B3%95%E5%A7%94%E5%93%A1/090%E5%B9%B4%E7%AC%AC5%E5%B1%86/index2.php\">http://ebulletin.cec.gov.tw/%E9%81%B8%E8%88%89/%E7%AB%8B%E6%B3%95%E5%A7%94%E5%93%A1/090%E5%B9%B4%E7%AC%AC5%E5%B1%86/index2.php</a>"
      ],
      "text/plain": [
       "<IPython.core.display.HTML object>"
      ]
     },
     "metadata": {},
     "output_type": "display_data"
    },
    {
     "data": {
      "text/plain": [
       "'total number of relatives in g0v data are:0'"
      ]
     },
     "metadata": {},
     "output_type": "display_data"
    },
    {
     "data": {
      "text/html": [
       "1995/12/02 瓦歷斯．貝林 男 中國國民黨 * 全國 <a href=\"http://db.cec.gov.tw/histMain.jsp?voteSel=19951201A2\">http://db.cec.gov.tw/histMain.jsp?voteSel=19951201A2</a>"
      ],
      "text/plain": [
       "<IPython.core.display.HTML object>"
      ]
     },
     "metadata": {},
     "output_type": "display_data"
    },
    {
     "data": {
      "text/html": [
       "2004/12/11 瓦歷斯．貝林 男 無黨團結聯盟   全國 <a href=\"http://db.cec.gov.tw/histMain.jsp?voteSel=20041201A2\">http://db.cec.gov.tw/histMain.jsp?voteSel=20041201A2</a>"
      ],
      "text/plain": [
       "<IPython.core.display.HTML object>"
      ]
     },
     "metadata": {},
     "output_type": "display_data"
    },
    {
     "name": "stdin",
     "output_type": "stream",
     "text": [
      "Choose Category of a Legislator: H 客家 F 閩南 W 外省 A 原住民 N 新住民 O 其他 U 不明： a\n",
      "Category Reference： 選舉公報和名字\n"
     ]
    },
    {
     "name": "stdout",
     "output_type": "stream",
     "text": [
      "林奕華( 3 to go )\n"
     ]
    },
    {
     "data": {
      "text/html": [
       "<a href=\"http://zh.wikipedia.org/wiki/林奕華\">http://zh.wikipedia.org/wiki/林奕華</a>"
      ],
      "text/plain": [
       "<IPython.core.display.HTML object>"
      ]
     },
     "metadata": {},
     "output_type": "display_data"
    },
    {
     "data": {
      "text/html": [
       "<a href=\"https://www.google.com.tw/search?&num=100&q=site:ly.gov.tw+立法委員+%22林奕華%22\">https://www.google.com.tw/search?&num=100&q=site:ly.gov.tw+立法委員+%22林奕華%22</a>"
      ],
      "text/plain": [
       "<IPython.core.display.HTML object>"
      ]
     },
     "metadata": {},
     "output_type": "display_data"
    },
    {
     "data": {
      "text/html": [
       "<a href=\"https://www.google.com.tw/search?hl=zh-TW&tbo=p&tbm=bks&num=100&q=%22外省%22+林奕華\">https://www.google.com.tw/search?hl=zh-TW&tbo=p&tbm=bks&num=100&q=%22外省%22+林奕華</a>"
      ],
      "text/plain": [
       "<IPython.core.display.HTML object>"
      ]
     },
     "metadata": {},
     "output_type": "display_data"
    },
    {
     "data": {
      "text/html": [
       "<a href=\"https://www.google.com.tw/search?hl=zh-TW&tbo=p&tbm=bks&num=100&q=%22客家%22+林奕華\">https://www.google.com.tw/search?hl=zh-TW&tbo=p&tbm=bks&num=100&q=%22客家%22+林奕華</a>"
      ],
      "text/plain": [
       "<IPython.core.display.HTML object>"
      ]
     },
     "metadata": {},
     "output_type": "display_data"
    },
    {
     "data": {
      "text/html": [
       "<a href=\"https://www.google.com.tw/search?hl=zh-TW&tbo=p&tbm=bks&num=100&q=%22閩南%22+林奕華\">https://www.google.com.tw/search?hl=zh-TW&tbo=p&tbm=bks&num=100&q=%22閩南%22+林奕華</a>"
      ],
      "text/plain": [
       "<IPython.core.display.HTML object>"
      ]
     },
     "metadata": {},
     "output_type": "display_data"
    },
    {
     "data": {
      "text/html": [
       "<a href=\"https://www.google.com.tw/search?num=100&dcr=0&q=父親+母親+立法委員+爸媽+%22林奕華%22\">https://www.google.com.tw/search?num=100&dcr=0&q=父親+母親+立法委員+爸媽+%22林奕華%22</a>"
      ],
      "text/plain": [
       "<IPython.core.display.HTML object>"
      ]
     },
     "metadata": {},
     "output_type": "display_data"
    },
    {
     "data": {
      "text/html": [
       "<a href=\"https://www.google.com.tw/search?num=100&q=立法委員+%22林奕華%22+母親\">https://www.google.com.tw/search?num=100&q=立法委員+%22林奕華%22+母親</a>"
      ],
      "text/plain": [
       "<IPython.core.display.HTML object>"
      ]
     },
     "metadata": {},
     "output_type": "display_data"
    },
    {
     "data": {
      "text/html": [
       "<a href=\"https://www.google.com.tw/search?num=100&q=立法委員+%22林奕華%22+父親\">https://www.google.com.tw/search?num=100&q=立法委員+%22林奕華%22+父親</a>"
      ],
      "text/plain": [
       "<IPython.core.display.HTML object>"
      ]
     },
     "metadata": {},
     "output_type": "display_data"
    },
    {
     "data": {
      "text/html": [
       "<a href=\"https://www.youtube.com/results?search_type=search_videos&search_sort=relevance&search_category=0&page=&search_query=林奕華\">https://www.youtube.com/results?search_type=search_videos&search_sort=relevance&search_category=0&page=&search_query=林奕華</a>"
      ],
      "text/plain": [
       "<IPython.core.display.HTML object>"
      ]
     },
     "metadata": {},
     "output_type": "display_data"
    },
    {
     "data": {
      "text/html": [
       "<a href=\"https://www.google.com/search?ie=UTF-8&q=site%3Avote.nccu.edu.tw+%22林奕華%22\">https://www.google.com/search?ie=UTF-8&q=site%3Avote.nccu.edu.tw+%22林奕華%22</a>"
      ],
      "text/plain": [
       "<IPython.core.display.HTML object>"
      ]
     },
     "metadata": {},
     "output_type": "display_data"
    },
    {
     "data": {
      "text/html": [
       "<a href=\"http://ebulletin.cec.gov.tw/%E9%81%B8%E8%88%89/%E7%AB%8B%E6%B3%95%E5%A7%94%E5%93%A1/105%E5%B9%B4%E7%AC%AC9%E5%B1%86/\">http://ebulletin.cec.gov.tw/%E9%81%B8%E8%88%89/%E7%AB%8B%E6%B3%95%E5%A7%94%E5%93%A1/105%E5%B9%B4%E7%AC%AC9%E5%B1%86/</a>"
      ],
      "text/plain": [
       "<IPython.core.display.HTML object>"
      ]
     },
     "metadata": {},
     "output_type": "display_data"
    },
    {
     "data": {
      "text/plain": [
       "'total number of relatives in g0v data are:1'"
      ]
     },
     "metadata": {},
     "output_type": "display_data"
    },
    {
     "data": {
      "text/html": [
       "1父親　<a href=\"https://www.google.com.tw/search?num=100&q=林昭賢\">https://www.google.com.tw/search?num=100&q=林昭賢</a>　　"
      ],
      "text/plain": [
       "<IPython.core.display.HTML object>"
      ]
     },
     "metadata": {},
     "output_type": "display_data"
    },
    {
     "data": {
      "text/html": [
       "1998/12/05 林奕華 女 中國國民黨 * 臺北市第06選區 <a href=\"http://db.cec.gov.tw/histMain.jsp?voteSel=19981201B2\">http://db.cec.gov.tw/histMain.jsp?voteSel=19981201B2</a>"
      ],
      "text/plain": [
       "<IPython.core.display.HTML object>"
      ]
     },
     "metadata": {},
     "output_type": "display_data"
    },
    {
     "data": {
      "text/html": [
       "2002/12/07 林奕華 女 中國國民黨 * 臺北市第06選區 <a href=\"http://db.cec.gov.tw/histMain.jsp?voteSel=20021201B2\">http://db.cec.gov.tw/histMain.jsp?voteSel=20021201B2</a>"
      ],
      "text/plain": [
       "<IPython.core.display.HTML object>"
      ]
     },
     "metadata": {},
     "output_type": "display_data"
    },
    {
     "data": {
      "text/html": [
       "2006/12/09 林奕華 女 中國國民黨 * 臺北市第06選區 <a href=\"http://db.cec.gov.tw/histMain.jsp?voteSel=20061201B2\">http://db.cec.gov.tw/histMain.jsp?voteSel=20061201B2</a>"
      ],
      "text/plain": [
       "<IPython.core.display.HTML object>"
      ]
     },
     "metadata": {},
     "output_type": "display_data"
    },
    {
     "data": {
      "text/html": [
       "2010/11/27 林奕華 女 中國國民黨 * 臺北市第06選區 <a href=\"http://db.cec.gov.tw/histMain.jsp?voteSel=20101101B2\">http://db.cec.gov.tw/histMain.jsp?voteSel=20101101B2</a>"
      ],
      "text/plain": [
       "<IPython.core.display.HTML object>"
      ]
     },
     "metadata": {},
     "output_type": "display_data"
    },
    {
     "data": {
      "text/html": [
       "2016/01/16 林奕華 女 中國國民黨   全國 <a href=\"http://db.cec.gov.tw/histMain.jsp?voteSel=20160101A2\">http://db.cec.gov.tw/histMain.jsp?voteSel=20160101A2</a>"
      ],
      "text/plain": [
       "<IPython.core.display.HTML object>"
      ]
     },
     "metadata": {},
     "output_type": "display_data"
    },
    {
     "name": "stdin",
     "output_type": "stream",
     "text": [
      "Choose Category of a Legislator: H 客家 F 閩南 W 外省 A 原住民 N 新住民 O 其他 U 不明： f\n",
      "Category Reference： birthday 1968 and place臺中縣 and not hakka guess father林昭賢\n"
     ]
    },
    {
     "name": "stdout",
     "output_type": "stream",
     "text": [
      "陳靜敏( 2 to go )\n"
     ]
    },
    {
     "data": {
      "text/html": [
       "<a href=\"http://zh.wikipedia.org/wiki/陳靜敏\">http://zh.wikipedia.org/wiki/陳靜敏</a>"
      ],
      "text/plain": [
       "<IPython.core.display.HTML object>"
      ]
     },
     "metadata": {},
     "output_type": "display_data"
    },
    {
     "data": {
      "text/html": [
       "<a href=\"https://www.google.com.tw/search?&num=100&q=site:ly.gov.tw+立法委員+%22陳靜敏%22\">https://www.google.com.tw/search?&num=100&q=site:ly.gov.tw+立法委員+%22陳靜敏%22</a>"
      ],
      "text/plain": [
       "<IPython.core.display.HTML object>"
      ]
     },
     "metadata": {},
     "output_type": "display_data"
    },
    {
     "data": {
      "text/html": [
       "<a href=\"https://www.google.com.tw/search?hl=zh-TW&tbo=p&tbm=bks&num=100&q=%22外省%22+陳靜敏\">https://www.google.com.tw/search?hl=zh-TW&tbo=p&tbm=bks&num=100&q=%22外省%22+陳靜敏</a>"
      ],
      "text/plain": [
       "<IPython.core.display.HTML object>"
      ]
     },
     "metadata": {},
     "output_type": "display_data"
    },
    {
     "data": {
      "text/html": [
       "<a href=\"https://www.google.com.tw/search?hl=zh-TW&tbo=p&tbm=bks&num=100&q=%22客家%22+陳靜敏\">https://www.google.com.tw/search?hl=zh-TW&tbo=p&tbm=bks&num=100&q=%22客家%22+陳靜敏</a>"
      ],
      "text/plain": [
       "<IPython.core.display.HTML object>"
      ]
     },
     "metadata": {},
     "output_type": "display_data"
    },
    {
     "data": {
      "text/html": [
       "<a href=\"https://www.google.com.tw/search?hl=zh-TW&tbo=p&tbm=bks&num=100&q=%22閩南%22+陳靜敏\">https://www.google.com.tw/search?hl=zh-TW&tbo=p&tbm=bks&num=100&q=%22閩南%22+陳靜敏</a>"
      ],
      "text/plain": [
       "<IPython.core.display.HTML object>"
      ]
     },
     "metadata": {},
     "output_type": "display_data"
    },
    {
     "data": {
      "text/html": [
       "<a href=\"https://www.google.com.tw/search?num=100&dcr=0&q=父親+母親+立法委員+爸媽+%22陳靜敏%22\">https://www.google.com.tw/search?num=100&dcr=0&q=父親+母親+立法委員+爸媽+%22陳靜敏%22</a>"
      ],
      "text/plain": [
       "<IPython.core.display.HTML object>"
      ]
     },
     "metadata": {},
     "output_type": "display_data"
    },
    {
     "data": {
      "text/html": [
       "<a href=\"https://www.google.com.tw/search?num=100&q=立法委員+%22陳靜敏%22+母親\">https://www.google.com.tw/search?num=100&q=立法委員+%22陳靜敏%22+母親</a>"
      ],
      "text/plain": [
       "<IPython.core.display.HTML object>"
      ]
     },
     "metadata": {},
     "output_type": "display_data"
    },
    {
     "data": {
      "text/html": [
       "<a href=\"https://www.google.com.tw/search?num=100&q=立法委員+%22陳靜敏%22+父親\">https://www.google.com.tw/search?num=100&q=立法委員+%22陳靜敏%22+父親</a>"
      ],
      "text/plain": [
       "<IPython.core.display.HTML object>"
      ]
     },
     "metadata": {},
     "output_type": "display_data"
    },
    {
     "data": {
      "text/html": [
       "<a href=\"https://www.youtube.com/results?search_type=search_videos&search_sort=relevance&search_category=0&page=&search_query=陳靜敏\">https://www.youtube.com/results?search_type=search_videos&search_sort=relevance&search_category=0&page=&search_query=陳靜敏</a>"
      ],
      "text/plain": [
       "<IPython.core.display.HTML object>"
      ]
     },
     "metadata": {},
     "output_type": "display_data"
    },
    {
     "data": {
      "text/html": [
       "<a href=\"https://www.google.com/search?ie=UTF-8&q=site%3Avote.nccu.edu.tw+%22陳靜敏%22\">https://www.google.com/search?ie=UTF-8&q=site%3Avote.nccu.edu.tw+%22陳靜敏%22</a>"
      ],
      "text/plain": [
       "<IPython.core.display.HTML object>"
      ]
     },
     "metadata": {},
     "output_type": "display_data"
    },
    {
     "data": {
      "text/html": [
       "<a href=\"http://ebulletin.cec.gov.tw/%E9%81%B8%E8%88%89/%E7%AB%8B%E6%B3%95%E5%A7%94%E5%93%A1/105%E5%B9%B4%E7%AC%AC9%E5%B1%86/\">http://ebulletin.cec.gov.tw/%E9%81%B8%E8%88%89/%E7%AB%8B%E6%B3%95%E5%A7%94%E5%93%A1/105%E5%B9%B4%E7%AC%AC9%E5%B1%86/</a>"
      ],
      "text/plain": [
       "<IPython.core.display.HTML object>"
      ]
     },
     "metadata": {},
     "output_type": "display_data"
    },
    {
     "data": {
      "text/plain": [
       "'total number of relatives in g0v data are:1'"
      ]
     },
     "metadata": {},
     "output_type": "display_data"
    },
    {
     "data": {
      "text/html": [
       "1哥哥　<a href=\"https://www.google.com.tw/search?num=100&q=陳建銘\">https://www.google.com.tw/search?num=100&q=陳建銘</a>　　"
      ],
      "text/plain": [
       "<IPython.core.display.HTML object>"
      ]
     },
     "metadata": {},
     "output_type": "display_data"
    },
    {
     "data": {
      "text/html": [
       "2016/01/16 陳靜敏 女 民主進步黨   全國 <a href=\"http://db.cec.gov.tw/histMain.jsp?voteSel=20160101A2\">http://db.cec.gov.tw/histMain.jsp?voteSel=20160101A2</a>"
      ],
      "text/plain": [
       "<IPython.core.display.HTML object>"
      ]
     },
     "metadata": {},
     "output_type": "display_data"
    },
    {
     "name": "stdin",
     "output_type": "stream",
     "text": [
      "Choose Category of a Legislator: H 客家 F 閩南 W 外省 A 原住民 N 新住民 O 其他 U 不明： f\n",
      "Category Reference： father陳安邦's background https://zh.wikipedia.org/wiki/陳安邦 and not hakka\n"
     ]
    },
    {
     "name": "stdout",
     "output_type": "stream",
     "text": [
      "童惠珍( 1 to go )\n"
     ]
    },
    {
     "data": {
      "text/html": [
       "<a href=\"http://zh.wikipedia.org/wiki/童惠珍\">http://zh.wikipedia.org/wiki/童惠珍</a>"
      ],
      "text/plain": [
       "<IPython.core.display.HTML object>"
      ]
     },
     "metadata": {},
     "output_type": "display_data"
    },
    {
     "data": {
      "text/html": [
       "<a href=\"https://www.google.com.tw/search?&num=100&q=site:ly.gov.tw+立法委員+%22童惠珍%22\">https://www.google.com.tw/search?&num=100&q=site:ly.gov.tw+立法委員+%22童惠珍%22</a>"
      ],
      "text/plain": [
       "<IPython.core.display.HTML object>"
      ]
     },
     "metadata": {},
     "output_type": "display_data"
    },
    {
     "data": {
      "text/html": [
       "<a href=\"https://www.google.com.tw/search?hl=zh-TW&tbo=p&tbm=bks&num=100&q=%22外省%22+童惠珍\">https://www.google.com.tw/search?hl=zh-TW&tbo=p&tbm=bks&num=100&q=%22外省%22+童惠珍</a>"
      ],
      "text/plain": [
       "<IPython.core.display.HTML object>"
      ]
     },
     "metadata": {},
     "output_type": "display_data"
    },
    {
     "data": {
      "text/html": [
       "<a href=\"https://www.google.com.tw/search?hl=zh-TW&tbo=p&tbm=bks&num=100&q=%22客家%22+童惠珍\">https://www.google.com.tw/search?hl=zh-TW&tbo=p&tbm=bks&num=100&q=%22客家%22+童惠珍</a>"
      ],
      "text/plain": [
       "<IPython.core.display.HTML object>"
      ]
     },
     "metadata": {},
     "output_type": "display_data"
    },
    {
     "data": {
      "text/html": [
       "<a href=\"https://www.google.com.tw/search?hl=zh-TW&tbo=p&tbm=bks&num=100&q=%22閩南%22+童惠珍\">https://www.google.com.tw/search?hl=zh-TW&tbo=p&tbm=bks&num=100&q=%22閩南%22+童惠珍</a>"
      ],
      "text/plain": [
       "<IPython.core.display.HTML object>"
      ]
     },
     "metadata": {},
     "output_type": "display_data"
    },
    {
     "data": {
      "text/html": [
       "<a href=\"https://www.google.com.tw/search?num=100&dcr=0&q=父親+母親+立法委員+爸媽+%22童惠珍%22\">https://www.google.com.tw/search?num=100&dcr=0&q=父親+母親+立法委員+爸媽+%22童惠珍%22</a>"
      ],
      "text/plain": [
       "<IPython.core.display.HTML object>"
      ]
     },
     "metadata": {},
     "output_type": "display_data"
    },
    {
     "data": {
      "text/html": [
       "<a href=\"https://www.google.com.tw/search?num=100&q=立法委員+%22童惠珍%22+母親\">https://www.google.com.tw/search?num=100&q=立法委員+%22童惠珍%22+母親</a>"
      ],
      "text/plain": [
       "<IPython.core.display.HTML object>"
      ]
     },
     "metadata": {},
     "output_type": "display_data"
    },
    {
     "data": {
      "text/html": [
       "<a href=\"https://www.google.com.tw/search?num=100&q=立法委員+%22童惠珍%22+父親\">https://www.google.com.tw/search?num=100&q=立法委員+%22童惠珍%22+父親</a>"
      ],
      "text/plain": [
       "<IPython.core.display.HTML object>"
      ]
     },
     "metadata": {},
     "output_type": "display_data"
    },
    {
     "data": {
      "text/html": [
       "<a href=\"https://www.youtube.com/results?search_type=search_videos&search_sort=relevance&search_category=0&page=&search_query=童惠珍\">https://www.youtube.com/results?search_type=search_videos&search_sort=relevance&search_category=0&page=&search_query=童惠珍</a>"
      ],
      "text/plain": [
       "<IPython.core.display.HTML object>"
      ]
     },
     "metadata": {},
     "output_type": "display_data"
    },
    {
     "data": {
      "text/html": [
       "<a href=\"https://www.google.com/search?ie=UTF-8&q=site%3Avote.nccu.edu.tw+%22童惠珍%22\">https://www.google.com/search?ie=UTF-8&q=site%3Avote.nccu.edu.tw+%22童惠珍%22</a>"
      ],
      "text/plain": [
       "<IPython.core.display.HTML object>"
      ]
     },
     "metadata": {},
     "output_type": "display_data"
    },
    {
     "data": {
      "text/html": [
       "<a href=\"http://ebulletin.cec.gov.tw/%E9%81%B8%E8%88%89/%E7%AB%8B%E6%B3%95%E5%A7%94%E5%93%A1/105%E5%B9%B4%E7%AC%AC9%E5%B1%86/\">http://ebulletin.cec.gov.tw/%E9%81%B8%E8%88%89/%E7%AB%8B%E6%B3%95%E5%A7%94%E5%93%A1/105%E5%B9%B4%E7%AC%AC9%E5%B1%86/</a>"
      ],
      "text/plain": [
       "<IPython.core.display.HTML object>"
      ]
     },
     "metadata": {},
     "output_type": "display_data"
    },
    {
     "data": {
      "text/plain": [
       "'total number of relatives in g0v data are:0'"
      ]
     },
     "metadata": {},
     "output_type": "display_data"
    },
    {
     "data": {
      "text/html": [
       "2016/01/16 童惠珍 女 中國國民黨   全國 <a href=\"http://db.cec.gov.tw/histMain.jsp?voteSel=20160101A2\">http://db.cec.gov.tw/histMain.jsp?voteSel=20160101A2</a>"
      ],
      "text/plain": [
       "<IPython.core.display.HTML object>"
      ]
     },
     "metadata": {},
     "output_type": "display_data"
    },
    {
     "name": "stdin",
     "output_type": "stream",
     "text": [
      "Choose Category of a Legislator: H 客家 F 閩南 W 外省 A 原住民 N 新住民 O 其他 U 不明： w\n",
      "Category Reference： 平凡中的不平凡：全美台聯40風雲人物 page126 父親是江西人 http://fliphtml5.com/xxmy/dhzq/basic/101-150\n"
     ]
    }
   ],
   "source": [
    "legisnames = pd.unique(df['legislator_name'])\n",
    "for legisname in legisnames:\n",
    "    position = list(legisnames).index(legisname)\n",
    "    all_num_elements = len(legisnames)\n",
    "    restnumelements = all_num_elements-position\n",
    "    servingterms = (df.loc[(df['legislator_name']==legisname),['term']])['term'].tolist()\n",
    "    ethnicity_in_excel = pd.unique((df.loc[(df['legislator_name']==legisname),[\"legislator_ethnicity\"]])[\"legislator_ethnicity\"]).tolist()[0]\n",
    "    with open(legislators_ethicity_jsonfile, 'r') as pickle_file:\n",
    "        try:\n",
    "            legislators_ethicity = json.load(pickle_file)\n",
    "        except:\n",
    "            legislators_ethicity = {\n",
    "                'aboriginal':'',\n",
    "                'foreignstates':'尹伶瑛|段宜康|趙麗雲|吳育昇|丁守中|朱鳳芝|周守訓|邱毅|帥化民|洪秀柱|孫大千|李慶安|李慶華|潘維剛|蔣孝嚴|賴士葆|費鴻泰|盧秀燕|王榮璋|顧立雄|段宜康|王定宇|趙天麟|梁文傑|王鍾渝|李永萍|江綺雯|沈智慧',\n",
    "                'fulo':'尤清|王拓|王金平|王幸男|王政中|王昱婷|王雪峰|江丙坤|江昭儀|何金松|何敏豪|余政道|吳東昇|吳敦義|呂新民|李文忠|李全教|蔡正元|李嘉進|林豐正|郭素春|邱毅|李明憲|李俊毅|李鴻鈞|杜文卿|沈富雄|邱永仁',\n",
    "                'hakka':'羅文嘉|林郁方|羅志明|彭添富|邱垂貞|張昌財|邱創良|鄭金玲|張學舜|邱鏡淳|陳進興|呂學樟|何智輝|徐耀昌|林豐喜|邱太三|郭俊銘|鍾紹和|傅崐萁|饒穎奇|李桐豪|鍾榮吉|徐中雄|吳志揚|彭紹瑾|鄭金玲|葉芳雄|管碧玲|張慶惠|劉盛良|廖正井|趙麗雲|邱志偉|呂玉玲|徐欣瑩|邱文彥|陳碧涵|吳宜臻|李應元|陳賴素美|徐志榮|鍾佳濱|鍾孔炤|林為洲|陳明真',\n",
    "                'newresident':'',\n",
    "                'other':'吳成典'\n",
    "                #'unknown':'' 王淑慧|朱星羽|李和順|李雅景|李鎮楠|李顯榮|李雅景|邱創進\n",
    "            } #infile unknown: 朱星羽|李和順|李雅景|李鎮楠|李顯榮|李雅景|邱創進|邱彰|卓榮泰|周伯倫|周慧瑛|林育生|林政義|柯淑敏|鄭三元|謝明源|梅長錡|李貴敏|曾巨威|詹滿容|陳曼麗\n",
    "        finally:\n",
    "            pickle_file.close()\n",
    "\n",
    "    with open(legislators_ethicity_reference_jsonfile, 'r') as pickle_file:\n",
    "        legislators_ethicity_reference = json.load(pickle_file)\n",
    "        pickle_file.close()\n",
    "\n",
    "    legislators_ethicity_str = \"|\".join(legislators_ethicity.values())\n",
    "\n",
    "    pattern = re.compile(legisname)\n",
    "    # for key in ethnicity mode\n",
    "    if (  (pattern.search(legislators_ethicity_str)!=None) | (isinstance(ethnicity_in_excel,str))  ):\n",
    "        #print(legisname+\" passed!\")\n",
    "        continue\n",
    "    # for key in reference mode\n",
    "    \n",
    "    s1 = \"\"\n",
    "    s2 = \"+\"\n",
    "    googlebooksearchurl_fs=s1.join( ('https://www.google.com.tw/search?hl=zh-TW&tbo=p&tbm=bks&num=100&q=', urlencodedquote, '外省', urlencodedquote, s2, legisname ) )\n",
    "    googlebooksearchurl_hakka=s1.join( ('https://www.google.com.tw/search?hl=zh-TW&tbo=p&tbm=bks&num=100&q=', urlencodedquote, '客家', urlencodedquote, s2, legisname ) )\n",
    "    googlebooksearchurl_fulo=s1.join( ('https://www.google.com.tw/search?hl=zh-TW&tbo=p&tbm=bks&num=100&q=', urlencodedquote, '閩南', urlencodedquote, s2, legisname ) )\n",
    "    wikipage=s1.join( ('http://zh.wikipedia.org/wiki/', legisname) )\n",
    "    lysearch=s1.join( ('https://www.google.com.tw/search?&num=100&q=site:ly.gov.tw+立法委員+', urlencodedquote, legisname, urlencodedquote) )\n",
    "    mothersearch=s1.join( ('https://www.google.com.tw/search?num=100&q=立法委員+', urlencodedquote, legisname, urlencodedquote, \"+母親\") )\n",
    "    fathersearch=s1.join( ('https://www.google.com.tw/search?num=100&q=立法委員+', urlencodedquote, legisname, urlencodedquote, \"+父親\") )\n",
    "    parentssearch=s1.join( ('https://www.google.com.tw/search?num=100&dcr=0&q=父親+母親+立法委員+爸媽+', urlencodedquote, legisname, urlencodedquote) )\n",
    "    ytsearch=s1.join( ('https://www.youtube.com/results?search_type=search_videos&search_sort=relevance&search_category=0&page=&search_query=', legisname) )\n",
    "    votenccu=s1.join( ('https://www.google.com/search?ie=UTF-8&q=site%3Avote.nccu.edu.tw+', urlencodedquote, legisname, urlencodedquote) )\n",
    "    #暗公報 https://election.thenewslens.com/2018/html/article-1-6-3-taichung.html\n",
    "    print(legisname + \"( \" + str(restnumelements) + \" to go )\")\n",
    "    #print((df.loc[(df['name']==legisname),['term']])['term'])\n",
    "    #print(servingterms)\n",
    "    #sys.exit()\n",
    "    displayurllist = [wikipage,lysearch,googlebooksearchurl_fs,googlebooksearchurl_hakka,googlebooksearchurl_fulo,parentssearch,mothersearch,fathersearch,ytsearch,votenccu]\n",
    "    displayurllist += list(np.take(bulletin_urls,servingterms))\n",
    "    for url in displayurllist:\n",
    "        #print(url)\n",
    "        display(HTML(generate_hyperlink_for_url(url)))\n",
    "        if (usingselenium):\n",
    "            driver.get(url)\n",
    "            with open(jquery_file, 'r') as jquery_js: \n",
    "                jquery = jquery_js.read()\n",
    "                driver.execute_script(jquery)\n",
    "                driver.execute_script('$(\"body\").css(\"font-size\", \"150%\")')\n",
    "                driver.execute_script('$(\"div.rc\").css(\"font-size\", \"150%\")')\n",
    "                driver.execute_script('$(\"div.mw-parser-output\").css(\"font-size\", \"125%\")')\n",
    "                driver.execute_script('$(\"table.infobox\").css(\"font-size\", \"large\")')\n",
    "                finishonepage=input(\"Press Enter to continue...\")\n",
    "                if (finishonepage=='end'):\n",
    "                    break\n",
    "    relative_datadiv_for_a_legislator_trs = legislatorrelatives_rootselector.xpath(\"//div[@class='card-body' and contains(.,'\"+legisname+\"')]//tr\")[1:]\n",
    "    display(\"total number of relatives in g0v data are:\"+str(len(relative_datadiv_for_a_legislator_trs)))\n",
    "    search_i = 1\n",
    "    try:\n",
    "        for relative_of_a_legislator in relative_datadiv_for_a_legislator_trs:\n",
    "            str_search_i = str(search_i)\n",
    "            for td_search_key,td_search_value in relative_for_a_legislator_inf_search_xpathkey.items():\n",
    "                try:\n",
    "                    match_relative_result = relative_of_a_legislator.find(td_search_value).text.strip()\n",
    "                    if (td_search_key==\"name\"):\n",
    "                        search_relative_url = \"https://www.google.com.tw/search?num=100&q=\"+match_relative_result\n",
    "                        str_search_i += generate_hyperlink_for_url(search_relative_url)+\"　\"\n",
    "                    else:\n",
    "                        str_search_i += match_relative_result+\"　\"\n",
    "                except:\n",
    "                    str_search_i += \"\"\n",
    "            display(HTML(str_search_i))\n",
    "            search_i += 1\n",
    "    except:\n",
    "        display(\"\")\n",
    "    request_candidate_data = {'candName':legisname}\n",
    "    response_candidate_data = requests.post(path_to_candidate_api, data=request_candidate_data)#, headers=request_candidate_header\n",
    "    #soup = BeautifulSoup(response_candidate_data, 'html.parser')\n",
    "    rootselector = etree.HTML(response_candidate_data.text)\n",
    "    participated_elections = rootselector.xpath(\"/html/body/div[4]/div[3]//div[contains(@style,'width: 1200px')]\")\n",
    "    election_inf = {}\n",
    "    for participated_election in participated_elections:\n",
    "        for search_i in range(1,7):\n",
    "            str_search_i = str(search_i)\n",
    "            try:\n",
    "                election_inf[str_search_i] = participated_election.find(\".//div[\"+str_search_i+\"]\").text\n",
    "            except:\n",
    "                election_inf[str_search_i] = \"\"\n",
    "        try:\n",
    "            electionlink = \"http://db.cec.gov.tw/\"+participated_election.find(\".//div[7]/a\").attrib.get(\"href\")\n",
    "            electionlink = generate_hyperlink_for_url(electionlink)\n",
    "            election_inf['electionlink'] = electionlink\n",
    "        except:\n",
    "            electionlink = \"\"\n",
    "            election_inf['electionlink'] = electionlink\n",
    "        try:\n",
    "            display(HTML( str.join(' ', election_inf.values()) ))\n",
    "        except:\n",
    "            display(\"\")\n",
    "    category = input(\"Choose Category of a Legislator: H 客家 F 閩南 W 外省 A 原住民 N 新住民 O 其他 U 不明：\")\n",
    "    with open(legislators_ethicity_jsonfile, 'w') as pickle_file:\n",
    "        legislators_ethicity = addlegislatoreth(legisname,category,legislators_ethicity)\n",
    "        json.dump(legislators_ethicity, pickle_file, ensure_ascii=False)\n",
    "    if (len(legislators_ethicity_reference)>1):\n",
    "        legislators_ethicity_reference[legisname] = input(\"Category Reference：\")\n",
    "        items = re.findall(r'https?://([-\\w./?=&+\\d%\\\"])+',legislators_ethicity_reference[legisname])\n",
    "        for item in items:\n",
    "            legislators_ethicity_reference[legisname] = legislators_ethicity_reference[legisname].replace(item, urllib.parse.quote_plus(item))\n",
    "        with open(legislators_ethicity_reference_jsonfile, 'w') as pickle_file:\n",
    "            json.dump(legislators_ethicity_reference, pickle_file, ensure_ascii=False)\n",
    "    else:\n",
    "        display(\"error in legislators_ethicity_reference\")\n",
    "    #print(legisname)"
   ]
  },
  {
   "cell_type": "code",
   "execution_count": null,
   "metadata": {},
   "outputs": [],
   "source": [
    "df"
   ]
  }
 ],
 "metadata": {
  "kernelspec": {
   "display_name": "Python 3",
   "language": "python",
   "name": "python3"
  },
  "language_info": {
   "codemirror_mode": {
    "name": "ipython",
    "version": 3
   },
   "file_extension": ".py",
   "mimetype": "text/x-python",
   "name": "python",
   "nbconvert_exporter": "python",
   "pygments_lexer": "ipython3",
   "version": "3.7.1"
  },
  "varInspector": {
   "cols": {
    "lenName": 16,
    "lenType": 16,
    "lenVar": 40
   },
   "kernels_config": {
    "python": {
     "delete_cmd_postfix": "",
     "delete_cmd_prefix": "del ",
     "library": "var_list.py",
     "varRefreshCmd": "print(var_dic_list())"
    },
    "r": {
     "delete_cmd_postfix": ") ",
     "delete_cmd_prefix": "rm(",
     "library": "var_list.r",
     "varRefreshCmd": "cat(var_dic_list()) "
    }
   },
   "types_to_exclude": [
    "module",
    "function",
    "builtin_function_or_method",
    "instance",
    "_Feature"
   ],
   "window_display": false
  }
 },
 "nbformat": 4,
 "nbformat_minor": 4
}
